{
 "cells": [
  {
   "cell_type": "markdown",
   "metadata": {},
   "source": [
    "# Mandatory Assignment 1: Counting Words\n",
    "\n",
    "**This is the first of three mandatory assignments to be handed in as part of the assessment for the course 02807 Computational Tools for Data Science at Technical University of Denmark, autumn 2019.**\n",
    "\n",
    "#### Practical info\n",
    "- **The assignment is to be done individually. You are under no circumstances allowed to collaborate with anyone on solving the exercises (cf. the full policy on this on the course website)**\n",
    "- **You must hand in one Jupyter notebook (this notebook) with your solution**\n",
    "- **The hand-in of the notebook is due 2019-10-13, 23:59 on DTU Inside**\n",
    "\n",
    "#### Your solution\n",
    "- **Your solution should be in Python**\n",
    "- **For each question you should use exactly the cells provided for your solution**\n",
    "- **You should not remove the problem statements, and you should not modify the structure of the notebook**\n",
    "- **Your notebook should be runnable, i.e., clicking [>>] in Jupyter should generate the result that you want to be assessed**"
   ]
  },
  {
   "cell_type": "markdown",
   "metadata": {},
   "source": [
    "---\n",
    "## Introduction\n",
    "In this assignment you will build data structures for counting words in a text. Suppose you are given a very large corpus of text, and from time to time you need to count how many times a word occurs. You could write a program that searches the text from start to end every time you want to make a query, but for large texts, this will be very slow. A common way to handle this, is to preprocess the text into a data structure that contains exactly the information needed to answer specific queries like the frequency of a word.\n",
    "\n",
    "Given a text, you should build data structures that can answer the following questions efficiently:\n",
    "- How many times does a given word occur in the text? (exercise 2)\n",
    "- How many times in total does a word starting with a given prefix occur? (exercise 3)\n",
    "\n",
    "For each of these questions you should write a function that organizes data in a way (the data structure) that makes it possible to write an efficient function (the query) to answer the questions. A good data structure is one where the query is much faster than just searching the text while still is not using too much space.\n",
    "\n",
    "You should not use any Python libraries (except `string`!) to solve the exercises. You may use build-ins like lists, dictionaries, `map`, `filter`, and so on.\n",
    "\n",
    "You should provide implementations for the functions in this notebook. Do not change the names of the functions.\n",
    "\n",
    "To test your programs, we will use the complete works of William Shakespeare. Please run the cells below to load the text and show a preview. You should be online before you do this. Note that a good solution will have to work for even larger texts than this."
   ]
  },
  {
   "cell_type": "code",
   "execution_count": 1,
   "metadata": {},
   "outputs": [],
   "source": [
    "import requests\n",
    "text = requests.get('https://ocw.mit.edu/ans7870/6/6.006/s08/lecturenotes/files/t8.shakespeare.txt').text"
   ]
  },
  {
   "cell_type": "code",
   "execution_count": 2,
   "metadata": {},
   "outputs": [
    {
     "name": "stdout",
     "output_type": "stream",
     "text": [
      "This is the 100th Etext file presented by Project Gutenberg, and\n",
      "is presented in cooperation with World Library, Inc., from their\n",
      "Library of the Future and Shakespeare CDROMS.  Project Gutenberg\n",
      "often releases Etexts that are NOT placed in the Public Domain!!\n",
      "\n",
      "Shakespeare\n",
      "\n",
      "*This Etext has certain copyright implications you should read!*\n",
      "\n",
      "<<THIS ELECTRONIC VERSION OF THE COMPLETE WORKS OF WILLIAM\n",
      "SHAKESPEARE IS COPYRIGHT 1990-1993 BY WORLD LIBRARY, INC., AND IS\n",
      "PROVIDED BY PROJECT GUTENBERG ETEXT OF ILLINOIS BENEDICTINE COLLEGE\n",
      "WITH PERMISSION.  ELECTRONIC AND MACHINE READABLE COPIES MAY BE\n",
      "DISTRIBUTED SO LONG AS SUCH COPIES (1) ARE FOR YOUR OR OTHERS\n",
      "PERSONAL USE ONLY, AND (2) ARE NOT DISTRIBUTED OR USED\n",
      "COMMERCIALLY.  PROHIBITED COMMERCIAL DISTRIBUTION INCLUDES BY ANY\n",
      "SERVICE THAT CHARGES FOR DOWNLOAD TIME OR FOR MEMBERSHIP.>>\n",
      "\n",
      "*Project Gutenberg is proud to cooperate with The World Library*\n",
      "in the presentation of The Complete Works of William Shakespeare\n",
      "for your reading for educatio ...\n"
     ]
    }
   ],
   "source": [
    "print('{} ...'.format(text[0:1000]))"
   ]
  },
  {
   "cell_type": "markdown",
   "metadata": {},
   "source": [
    "---\n",
    "## Exercise 1\n",
    "In this exercise you should create a helper function for parsing a text into an iterable (e.g., a list) of words. You will need this in the subsequent exercises.\n",
    "\n",
    "You should make sure that:\n",
    "- each element of the iterable is exactly one word,\n",
    "- all words are lower case,\n",
    "- words do not contain punctuation.\n",
    "\n",
    "Write a function `text_to_words()` that takes as input a string and output an iterable of the words in the string."
   ]
  },
  {
   "cell_type": "code",
   "execution_count": 3,
   "metadata": {},
   "outputs": [],
   "source": [
    "# You should implement this!\n",
    "import string\n",
    "#Here is an implementation not using the string package\n",
    "def text_to_words_no_string(text):\n",
    "        text = text.lower()\n",
    "        words = ''\n",
    "        for letter in text:\n",
    "            if(letter == ' ' or letter.isalpha()):\n",
    "                words += letter\n",
    "        return words.split()\n",
    "   # words = text.split()\n",
    "#using string(probably more efficient)\n",
    "def text_to_words(text):\n",
    "    #First translate it removing all punctuations, then set all letters to lowercase, and finally return the splitted string\n",
    "    return text.translate(str.maketrans('', '', string.punctuation)).lower().split()\n",
    "\n",
    "    "
   ]
  },
  {
   "cell_type": "code",
   "execution_count": 4,
   "metadata": {},
   "outputs": [
    {
     "data": {
      "text/plain": [
       "'this is a test'"
      ]
     },
     "execution_count": 4,
     "metadata": {},
     "output_type": "execute_result"
    }
   ],
   "source": [
    "# Should output 'this is a test'\n",
    "' '.join(text_to_words('THIS is, a test!'))"
   ]
  },
  {
   "cell_type": "code",
   "execution_count": 5,
   "metadata": {},
   "outputs": [
    {
     "name": "stdout",
     "output_type": "stream",
     "text": [
      "['this', 'is', 'a', 'test']\n"
     ]
    }
   ],
   "source": [
    "print(text_to_words('THIS is, a test!'))"
   ]
  },
  {
   "cell_type": "markdown",
   "metadata": {},
   "source": [
    "One should note that string.punctuation does not have all signs, meaning that for example the Diaeresis symbol, e.g omlyd in Danish (¨ in ö) will not count as puntuations, simlar to  accent aigu (´) from french."
   ]
  },
  {
   "cell_type": "code",
   "execution_count": 6,
   "metadata": {
    "scrolled": true
   },
   "outputs": [
    {
     "name": "stdout",
     "output_type": "stream",
     "text": [
      "!\"#$%&'()*+,-./:;<=>?@[\\]^_`{|}~\n"
     ]
    }
   ],
   "source": [
    "print(string.punctuation)"
   ]
  },
  {
   "cell_type": "code",
   "execution_count": 15,
   "metadata": {},
   "outputs": [
    {
     "name": "stdout",
     "output_type": "stream",
     "text": [
      "['this', 'is', 'the', '100th', 'etext', 'file', 'presented', 'by', 'project', 'gutenberg', 'and', 'is', 'presented', 'in', 'cooperation', 'with', 'world', 'library', 'inc', 'from', 'their', 'library', 'of', 'the', 'future', 'and', 'shakespeare', 'cdroms', 'project', 'gutenberg', 'often', 'releases', 'etexts', 'that', 'are', 'not', 'placed', 'in', 'the', 'public', 'domain', 'shakespeare', 'this', 'etext', 'has', 'certain', 'copyright', 'implications', 'you', 'should', 'read', 'this', 'electronic', 'version', 'of', 'the', 'complete', 'works', 'of', 'william', 'shakespeare', 'is', 'copyright', '19901993', 'by', 'world', 'library', 'inc', 'and', 'is', 'provided', 'by', 'project', 'gutenberg', 'etext', 'of', 'illinois', 'benedictine', 'college', 'with', 'permission', 'electronic', 'and', 'machine', 'readable', 'copies', 'may', 'be', 'distributed', 'so', 'long', 'as', 'such', 'copies', '1', 'are', 'for', 'your', 'or', 'others', 'personal', 'use', 'only', 'and', '2', 'are', 'not', 'distributed', 'or', 'used', 'commercially', 'prohibited', 'commercial', 'distribution', 'includes', 'by', 'any', 'service', 'that', 'charges', 'for', 'download', 'time', 'or', 'for', 'membership', 'project', 'gutenberg', 'is', 'proud', 'to', 'cooperate', 'with', 'the', 'world', 'library', 'in', 'the', 'presentation', 'of', 'the', 'complete', 'works', 'of', 'william', 'shakespeare', 'for', 'your', 'reading', 'for', 'education', 'and', 'entertainment', 'however', 'this', 'is', 'neither', 'shareware', 'nor', 'public', 'domain', 'and', 'under', 'the', 'library', 'of', 'the', 'future', 'conditions', 'of', 'this', 'presentation', 'no', 'charges', 'may', 'be', 'made', 'for', 'any', 'access', 'to', 'this', 'material', 'you', 'are', 'encouraged', 'to', 'give', 'it', 'away', 'to', 'anyone', 'you', 'like', 'but', 'no', 'charges', 'are', 'allowed', 'welcome', 'to', 'the', 'world', 'of', 'free', 'plain', 'vanilla', 'electronic', 'texts', 'etexts', 'readable', 'by', 'both', 'humans', 'and', 'by', 'computers', 'since', '1971', 'these', 'etexts', 'prepared', 'by', 'hundreds', 'of', 'volunteers', 'and', 'donations', 'information', 'on', 'contacting', 'project', 'gutenberg', 'to', 'get', 'etexts', 'and', 'further', 'information', 'is', 'included', 'below', 'we', 'need', 'your', 'donations', 'the', 'complete', 'works', 'of', 'william', 'shakespeare', 'january', '1994', 'etext', '100', 'the', 'library', 'of', 'the', 'future', 'complete', 'works', 'of', 'william', 'shakespeare', 'library', 'of', 'the', 'future', 'is', 'a', 'trademark', 'tm', 'of', 'world', 'library', 'inc', 'this', 'file', 'should', 'be', 'named', 'shaks12txt', 'or', 'shaks12zip', 'corrected', 'editions', 'of', 'our', 'etexts', 'get', 'a', 'new', 'number', 'shaks13txt', 'versions', 'based', 'on', 'separate', 'sources', 'get', 'new', 'letter', 'shaks10atxt', 'if', 'you', 'would', 'like', 'further', 'information', 'about', 'world', 'library', 'inc', 'please', 'call', 'them', 'at', '18004430238', 'or', 'email', 'juliancnetcomcom', 'please', 'give', 'them', 'our', 'thanks', 'for', 'their', 'shakespeare', 'cooperation', 'the', 'official', 'release', 'date', 'of', 'all', 'project', 'gutenberg', 'etexts', 'is', 'at', 'midnight', 'central', 'time', 'of', 'the', 'last', 'day', 'of', 'the', 'stated', 'month', 'a', 'preliminary', 'version', 'may', 'often', 'be', 'posted', 'for', 'suggestion', 'comment', 'and', 'editing', 'by', 'those', 'who', 'wish', 'to', 'do', 'so', 'to', 'be', 'sure', 'you', 'have', 'an', 'up', 'to', 'date', 'first', 'edition', 'xxxxx10xxxx', 'please', 'check', 'file', 'sizes', 'in', 'the', 'first', 'week', 'of', 'the', 'next', 'month', 'since', 'our', 'ftp', 'program', 'has', 'a', 'bug', 'in', 'it', 'that', 'scrambles', 'the', 'date', 'tried', 'to', 'fix', 'and', 'failed', 'a', 'look', 'at', 'the', 'file', 'size', 'will', 'have', 'to', 'do', 'but', 'we', 'will', 'try', 'to', 'see', 'a', 'new', 'copy', 'has', 'at', 'least', 'one', 'byte', 'more', 'or', 'less', 'information', 'about', 'project', 'gutenberg', 'one', 'page', 'we', 'produce', 'about', 'two', 'million', 'dollars', 'for', 'each', 'hour', 'we', 'work', 'the', 'fifty', 'hours', 'is', 'one', 'conservative', 'estimate', 'for', 'how', 'long', 'it', 'we', 'take', 'to', 'get', 'any', 'etext', 'selected', 'entered', 'proofread', 'edited', 'copyright', 'searched', 'and', 'analyzed', 'the', 'copyright', 'letters', 'written', 'etc', 'this', 'projected', 'audience', 'is', 'one', 'hundred', 'million', 'readers', 'if', 'our', 'value', 'per', 'text', 'is', 'nominally', 'estimated', 'at', 'one', 'dollar', 'then', 'we', 'produce', '2', 'million', 'dollars', 'per', 'hour', 'this', 'year', 'we', 'will', 'have', 'to', 'do', 'four', 'text', 'files', 'per', 'month', 'thus', 'upping', 'our', 'productivity', 'from', 'one', 'million', 'the', 'goal', 'of', 'project', 'gutenberg', 'is', 'to', 'give', 'away', 'one', 'trillion', 'etext', 'files', 'by', 'the', 'december', '31', '2001', '10000', 'x', '100000000trillion', 'this', 'is', 'ten', 'thousand', 'titles', 'each', 'to', 'one', 'hundred', 'million', 'readers', 'which', 'is', '10', 'of', 'the', 'expected', 'number', 'of', 'computer', 'users', 'by', 'the', 'end', 'of', 'the', 'year', '2001', 'we', 'need', 'your', 'donations', 'more', 'than', 'ever', 'all', 'donations', 'should', 'be', 'made', 'to', 'project', 'gutenbergibc', 'and', 'are', 'tax', 'deductible', 'to', 'the', 'extent', 'allowable', 'by', 'law', 'ibc', 'is', 'illinois', 'benedictine', 'college', 'subscriptions', 'to', 'our', 'paper', 'newsletter', 'go', 'to', 'ibc', 'too', 'for', 'these', 'and', 'other', 'matters', 'please', 'mail', 'to', 'project', 'gutenberg', 'p', 'o', 'box', '2782', 'champaign', 'il', '61825', 'when', 'all', 'other', 'email', 'fails', 'try', 'our', 'michael', 's', 'hart', 'executive', 'director', 'hartvmdcsouiucedu', 'internet', 'hartuiucvmd', 'bitnet', 'we', 'would', 'prefer', 'to', 'send', 'you', 'this', 'information', 'by', 'email', 'internet', 'bitnet', 'compuserve', 'attmail', 'or', 'mcimail', 'if', 'you', 'have', 'an', 'ftp', 'program', 'or', 'emulator', 'please', 'ftp', 'directly', 'to', 'the', 'project', 'gutenberg', 'archives', 'mac', 'users', 'do', 'not', 'point', 'and', 'click', 'type', 'ftp', 'mrcnextcsouiucedu', 'login', 'anonymous', 'password', 'yourlogin', 'cd', 'etextetext91', 'or', 'cd', 'etext92', 'or', 'cd', 'etext93', 'for', 'new', 'books', 'now', 'also', 'in', 'cd', 'etextetext93', 'or', 'cd', 'etextarticles', 'get', 'suggest', 'gut', 'for', 'more', 'information', 'dir', 'to', 'see', 'files', 'get', 'or', 'mget', 'to', 'get', 'files', 'set', 'bin', 'for', 'zip', 'files', 'get', '0indexgut', 'for', 'a', 'list', 'of', 'books', 'and', 'get', 'new', 'gut', 'for', 'general', 'information', 'and', 'mget', 'gut', 'for', 'newsletters', 'information', 'prepared', 'by', 'the', 'project', 'gutenberg', 'legal', 'advisor', 'small', 'print', 'for', 'complete', 'shakespeare', 'this', 'electronic', 'version', 'of', 'the', 'complete', 'works', 'of', 'william', 'shakespeare', 'is', 'copyright', '19901993', 'by', 'world', 'library', 'inc', 'and', 'is', 'provided', 'by', 'project', 'gutenberg', 'etext', 'of', 'illinois', 'benedictine', 'college', 'with', 'permission', 'since', 'unlike', 'many', 'other', 'project', 'gutenbergtm', 'etexts', 'this', 'etext', 'is', 'copyright', 'protected', 'and', 'since', 'the', 'materials', 'and', 'methods', 'you', 'use', 'will', 'effect', 'the', 'projects', 'reputation', 'your', 'right', 'to', 'copy', 'and', 'distribute', 'it', 'is', 'limited', 'by', 'the', 'copyright', 'and', 'other', 'laws', 'and', 'by', 'the', 'conditions', 'of', 'this', 'small', 'print', 'statement', '1', 'license', 'a', 'you', 'may', 'and', 'are', 'encouraged', 'to', 'distribute', 'electronic', 'and', 'machine', 'readable', 'copies', 'of', 'this', 'etext', 'so', 'long', 'as', 'such', 'copies', '1', 'are', 'for', 'your', 'or', 'others', 'personal', 'use', 'only', 'and', '2', 'are', 'not', 'distributed', 'or', 'used', 'commercially', 'prohibited', 'commercial', 'distribution', 'includes', 'by', 'any', 'service', 'that', 'charges', 'for', 'download', 'time', 'or', 'for', 'membership', 'b', 'this', 'license', 'is', 'subject', 'to', 'the', 'conditions', 'that', 'you', 'honor', 'the', 'refund', 'and', 'replacement', 'provisions', 'of', 'this', 'small', 'print', 'statement', 'and', 'that', 'you', 'distribute', 'exact', 'copies', 'of', 'this', 'etext', 'including', 'this', 'small', 'print', 'statement', 'such', 'copies', 'can', 'be', 'compressed', 'or', 'any', 'proprietary', 'form', 'including', 'any', 'form', 'resulting', 'from', 'word', 'processing', 'or', 'hypertext', 'software', 'so', 'long', 'as', 'either', '1', 'the', 'etext', 'when', 'displayed', 'is', 'clearly', 'readable', 'and', 'does', 'not', 'contain', 'characters', 'other', 'than', 'those', 'intended', 'by', 'the', 'author', 'of', 'the', 'work', 'although', 'tilde', 'asterisk', 'and', 'underline', 'characters', 'may', 'be', 'used', 'to', 'convey', 'punctuation', 'intended', 'by', 'the', 'author', 'and', 'additional', 'characters', 'may', 'be', 'used', 'to', 'indicate', 'hypertext', 'links', 'or', '2', 'the', 'etext', 'is', 'readily', 'convertible', 'by', 'the', 'reader', 'at', 'no', 'expense', 'into', 'plain', 'ascii', 'ebcdic', 'or', 'equivalent', 'form', 'by', 'the', 'program', 'that', 'displays', 'the', 'etext', 'as', 'is', 'the', 'case', 'for', 'instance', 'with', 'most', 'word', 'processors', 'or', '3', 'you', 'provide', 'or', 'agree', 'to', 'provide', 'on', 'request', 'at', 'no', 'additional', 'cost', 'fee', 'or', 'expense', 'a', 'copy', 'of', 'the', 'etext', 'in', 'plain', 'ascii', '2', 'limited', 'warranty', 'disclaimer', 'of', 'damages', 'this', 'etext', 'may', 'contain', 'a', 'defect', 'in', 'the', 'form', 'of', 'incomplete', 'inaccurate', 'or', 'corrupt', 'data', 'transcription', 'errors', 'a', 'copyright', 'or', 'other', 'infringement', 'a', 'defective', 'or', 'damaged', 'disk', 'computer', 'virus', 'or', 'codes', 'that', 'damage', 'or', 'cannot', 'be', 'read', 'by', 'your', 'equipment', 'but', 'for', 'the', 'right', 'of', 'replacement', 'or', 'refund', 'described', 'below', 'the', 'project', 'and', 'any', 'other', 'party', 'you', 'may', 'receive', 'this', 'etext', 'from', 'as', 'a', 'project', 'gutenbergtm', 'etext', 'disclaims', 'all', 'liability', 'to', 'you', 'for', 'damages', 'costs', 'and', 'expenses', 'including', 'legal', 'fees', 'and', 'you', 'have', 'no', 'remedies', 'for', 'negligence', 'or', 'under', 'strict', 'liability', 'or', 'for', 'breach', 'of', 'warranty', 'or', 'contract', 'including', 'but', 'not', 'limited', 'to', 'indirect', 'consequential', 'punitive', 'or', 'incidental', 'damages', 'even', 'if', 'you', 'give', 'notice', 'of', 'the', 'possibility', 'of', 'such', 'damages', 'if', 'you', 'discover', 'a', 'defect', 'in', 'this', 'etext', 'within', '90', 'days', 'of', 'receiv', 'ing', 'it', 'you', 'can', 'receive', 'a', 'refund', 'of', 'the', 'money', 'if', 'any', 'you', 'paid', 'for', 'it', 'by', 'sending', 'an', 'explanatory', 'note', 'within', 'that', 'time', 'to', 'the', 'person', 'you', 'received', 'it', 'from', 'if', 'you', 'received', 'it', 'on', 'a', 'physical', 'medium', 'you', 'must', 'return', 'it', 'with', 'your', 'note', 'and', 'such', 'person', 'may', 'choose', 'to', 'alternatively', 'give', 'you', 'a', 'replacement', 'copy', 'if', 'you', 'received', 'it', 'electronically', 'such', 'person', 'may', 'choose', 'to', 'alternatively', 'give', 'you', 'a', 'second', 'opportunity', 'to', 'receive', 'it', 'electronically', 'this', 'etext', 'is', 'otherwise', 'provided', 'to', 'you', 'asis', 'no', 'other', 'warranties', 'of', 'any', 'kind', 'express', 'or', 'implied', 'are', 'made', 'to', 'you', 'as', 'to', 'the', 'etext', 'or', 'any', 'medium', 'it', 'may', 'be', 'on', 'including', 'but', 'not', 'limited', 'to', 'warranties', 'of', 'merchantability', 'or', 'fitness', 'for', 'a', 'particular', 'purpose', 'some', 'states', 'do', 'not', 'allow', 'disclaimers', 'of', 'implied', 'warranties', 'or', 'the', 'exclusion', 'or', 'limitation', 'of', 'consequen', 'tial', 'damages', 'so', 'the', 'above', 'disclaimers', 'and', 'exclusions', 'may', 'not', 'apply', 'to', 'you', 'and', 'you', 'may', 'have', 'other', 'legal', 'rights', '3', 'indemnity', 'you', 'will', 'indemnify', 'and', 'hold', 'the', 'project', 'its', 'directors', 'officers', 'members', 'and', 'agents', 'harmless', 'from', 'all', 'lia', 'bility', 'cost', 'and', 'expense', 'including', 'legal', 'fees', 'that', 'arise', 'directly', 'or', 'indirectly', 'from', 'any', 'of', 'the', 'following', 'that', 'you', 'do', 'or', 'cause', 'a', 'distribution', 'of', 'this', 'etext', 'b', 'alteration', 'modification', 'or', 'addition', 'to', 'the', 'etext', 'or', 'c', 'any', 'defect', '4', 'what', 'if', 'you', 'want', 'to', 'send', 'money', 'even', 'if', 'you', 'dont', 'have', 'to', 'project', 'gutenberg', 'is', 'dedicated', 'to', 'increasing', 'the', 'number', 'of', 'public', 'domain', 'and', 'licensed', 'works', 'that', 'can', 'be', 'freely', 'distributed', 'in', 'machine', 'readable', 'form', 'the', 'project', 'gratefully', 'accepts', 'contributions', 'in', 'money', 'time', 'scanning', 'machines', 'ocr', 'software', 'public', 'domain', 'etexts', 'royalty', 'free', 'copyright', 'licenses', 'and', 'whatever', 'else', 'you', 'can', 'think', 'of', 'money', 'should', 'be', 'paid', 'to', 'pro', 'ject', 'gutenberg', 'association', 'illinois', 'benedictine', 'college', 'write', 'to', 'us', 'we', 'can', 'be', 'reached', 'at', 'internet', 'hartvmdcsouiucedu', 'bitnet', 'hartuiucvmd', 'compuserve', 'internethartvmdcsouiucedu', 'attmail', 'internetvmdcsouiuceduhart', 'mail', 'prof', 'michael', 'hart', 'po', 'box', '2782', 'champaign', 'il', '61825', 'this', 'small', 'print', 'by', 'charles', 'b', 'kramer', 'attorney', 'internet', '726002026compuservecom', 'tel', '2122545093', 'small', 'print', 'for', 'complete', 'shakespeare', 'small', 'print', 'v120893', 'this', 'electronic', 'version', 'of', 'the', 'complete', 'works', 'of', 'william', 'shakespeare', 'is']\n"
     ]
    }
   ],
   "source": [
    "print(text_to_words(text[0:10000]))"
   ]
  },
  {
   "cell_type": "markdown",
   "metadata": {},
   "source": [
    "---\n",
    "## Exercise 2\n",
    "In this exercise you should create a data structure that can give an answer to the following query.\n",
    "- How many times does a given word occur in the text?\n",
    "\n",
    "You should do the following:\n",
    "- Write a function `build_word_count_data_structure()` that takes as input an iterable of strings, and outputs a data structure for looking up how many times a string occurs.\n",
    "\n",
    "- Write a function `get_word_count()` that uses your data structure to count the number of times a word occurs.\n",
    "\n",
    "- Explain with words how your data is organized in your data structure, how your function constructs it, and how a query works. Why is it efficient?"
   ]
  },
  {
   "cell_type": "code",
   "execution_count": 7,
   "metadata": {},
   "outputs": [],
   "source": [
    "words_test = text_to_words('THIS is, a test! test')\n",
    "# You should implement this!\n",
    "def build_word_count_data_structure(words):\n",
    "    dict = {}\n",
    "    for word in words:\n",
    "        if word in dict:\n",
    "            dict[word] +=1\n",
    "        else:\n",
    "            dict[word] = 1\n",
    "    return dict\n",
    "        "
   ]
  },
  {
   "cell_type": "code",
   "execution_count": 8,
   "metadata": {},
   "outputs": [
    {
     "name": "stdout",
     "output_type": "stream",
     "text": [
      "{'this': 1, 'is': 1, 'a': 1, 'test': 2}\n"
     ]
    }
   ],
   "source": [
    "ds = build_word_count_data_structure(words_test)\n",
    "print(ds)"
   ]
  },
  {
   "cell_type": "code",
   "execution_count": 9,
   "metadata": {},
   "outputs": [],
   "source": [
    "# You should implement this!\n",
    "def get_word_count(ds, word):\n",
    "    if word in ds:\n",
    "        return ds[word]\n",
    "    else:\n",
    "      return 0 "
   ]
  },
  {
   "cell_type": "markdown",
   "metadata": {},
   "source": [
    "Allright. Let's try and use this for the romeo and juliet text above.\n",
    "\n",
    "Do note that in this case we will have Romeo and Romeo's as two different words. The punctuation will remove the apostrophe s.t. Romeo -> romeo and Romeo's -> romeos \n"
   ]
  },
  {
   "cell_type": "code",
   "execution_count": 30,
   "metadata": {},
   "outputs": [
    {
     "name": "stdout",
     "output_type": "stream",
     "text": [
      "Number of 'Romeo' in the text: 137\n",
      "Number of 'Romeo's' in the text: 19\n"
     ]
    }
   ],
   "source": [
    "ds = build_word_count_data_structure(text_to_words(text))\n",
    "print(\"Number of \\'Romeo\\' in the text: \"  + str(get_word_count(ds, 'romeo')))\n",
    "print(\"Number of \\'Romeo\\'s\\' in the text: \" + str(get_word_count(ds, 'romeos')))"
   ]
  },
  {
   "cell_type": "markdown",
   "metadata": {},
   "source": [
    "### Explanation\n",
    "_Explain your data structure with words_"
   ]
  },
  {
   "cell_type": "markdown",
   "metadata": {},
   "source": [
    "The structure is very simple. It is basically a hash-map with a key and a value, since that is how dictonaries are implemented in python. The key is in this case the word and the value is the number of times it occurs.\n",
    "The function constructs the datastructure by checking if the word has already been added, if it has the value is incremented by 1, and if not a new key is generated. When querying the function, we simply check if the word is even in the structure, and if it is the value can be accessed by just using the hashing function on the key. If the word is not in the structure a 0 is returned. The order of this operation is worst case $O(n)$ "
   ]
  },
  {
   "cell_type": "markdown",
   "metadata": {},
   "source": [
    "---\n",
    "## Exercise 3\n",
    "In this exercise you should create a data structure that can give an answer to the following query.\n",
    "- How many times in total does a word starting with a given prefix occur?\n",
    "\n",
    "For example, `bar` is a prefix of `bar`, `barracuda`, and `barrier`, and the result of the query should include the sum of the number of times each of those words occur.\n",
    "\n",
    "You should do the following:\n",
    "- Write a function `build_prefix_count_data_structure()` that takes as input a list of strings, and outputs a data structure for looking up how many times a prefix occurs in words.\n",
    "\n",
    "- Write a function `get_prefix_count()` that uses your data structure to count the number of times a prefix occurs.\n",
    "\n",
    "- Explain with words how your data is organized in your data structure, how your function constructs it, and how a query works. Why is it efficient?"
   ]
  },
  {
   "cell_type": "code",
   "execution_count": 11,
   "metadata": {},
   "outputs": [],
   "source": [
    "# You should implement this!\n",
    "class tree_node:\n",
    "    def __init__(self,char):\n",
    "        self.char = char\n",
    "        self.children = []\n",
    "        self.end = False\n",
    "        self.nums = 0\n",
    "def add_word(root,word):\n",
    "    cur_node = root\n",
    "    for char in word:\n",
    "        #Using a for-else loop - if it does not break we go to the else section\n",
    "         for child in cur_node.children:\n",
    "                if(child.char == char):\n",
    "                    child.nums += 1\n",
    "                    cur_node = child\n",
    "                    break;\n",
    "         else:\n",
    "            new_child = tree_node(char)\n",
    "            new_child.nums += 1\n",
    "            cur_node.children.append(new_child)\n",
    "            cur_node = new_child\n",
    "def build_prefix_count_data_structure(words):\n",
    "    root = tree_node('')\n",
    "    for word in words:\n",
    "        add_word(root,word)\n",
    "    return root\n",
    "root = tree_node('')\n",
    "add_word(root,'tiger')\n",
    "add_word(root,'titan')\n",
    "add_word(root,'total')"
   ]
  },
  {
   "cell_type": "code",
   "execution_count": 12,
   "metadata": {},
   "outputs": [],
   "source": [
    "# You should implement this!\n",
    "ds = build_prefix_count_data_structure(text_to_words('this is. a -test'))"
   ]
  },
  {
   "cell_type": "code",
   "execution_count": 13,
   "metadata": {},
   "outputs": [],
   "source": [
    "def get_prefix_count(ds, prefix):\n",
    "    node = ds\n",
    "    #make sure it's lower case\n",
    "    prefix = prefix.lower()\n",
    "    #iterate over all chars\n",
    "    for char in prefix:\n",
    "        #iterate over all children\n",
    "        for child in node.children:\n",
    "            #we move to the next child if it exists\n",
    "            if child.char == char:\n",
    "                node = child\n",
    "                break;\n",
    "        else:\n",
    "            #return 0 if the prefix does not exist\n",
    "            return 0\n",
    "    return node.nums"
   ]
  },
  {
   "cell_type": "markdown",
   "metadata": {},
   "source": [
    "Now let us again apply this to the prefix \"Romeo\". This should give us the sum of all Romeo and Romeo's, e.g $137+19 =156$, the result from exercise 2."
   ]
  },
  {
   "cell_type": "code",
   "execution_count": 35,
   "metadata": {},
   "outputs": [
    {
     "name": "stdout",
     "output_type": "stream",
     "text": [
      "Number of words with the prefix 'Romeo': 156\n"
     ]
    }
   ],
   "source": [
    "ds = build_prefix_count_data_structure(text_to_words(text))\n",
    "print(\"Number of words with the prefix \\'Romeo\\': \" + str(get_prefix_count(ds,'romeo')))"
   ]
  },
  {
   "cell_type": "markdown",
   "metadata": {},
   "source": [
    "### Explanation\n",
    "For this we are using a basic search tree. Suppose that we have the two words barrier and barracuda. Barrier is found by going through the tree as b->a->r->r->i->e->r meanwhile barracuda is at b->a->r->-r->a->c->u->d->a. At each of these nodes we then compute the number of entries we have here. If one really wanted to save memory, one could also just compute the number of entries by going through the tree from the prefix until the end and summing all the end-nodes up, although this would increase computation. \n",
    "\n",
    "It is efficient, because the query's have a very low order of complexity\n",
    "\n",
    "\n",
    "One could improve the query time by making the mapping to children a hash-map instead, so one does not have to loop through all the children checking for characters. \n",
    "\n"
   ]
  }
 ],
 "metadata": {
  "kernelspec": {
   "display_name": "Python 3",
   "language": "python",
   "name": "python3"
  },
  "language_info": {
   "codemirror_mode": {
    "name": "ipython",
    "version": 3
   },
   "file_extension": ".py",
   "mimetype": "text/x-python",
   "name": "python",
   "nbconvert_exporter": "python",
   "pygments_lexer": "ipython3",
   "version": "3.7.3"
  }
 },
 "nbformat": 4,
 "nbformat_minor": 2
}
