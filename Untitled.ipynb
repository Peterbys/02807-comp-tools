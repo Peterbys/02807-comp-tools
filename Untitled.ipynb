{
 "cells": [
  {
   "cell_type": "markdown",
   "metadata": {},
   "source": [
    "You should use **Jupyter** to solve the exercise!\n",
    "\n",
    "#### Part 1\n",
    "- Download the [training data](https://raw.githubusercontent.com/patrickcording/02807-comp-tools/master/docker/work/data/titanic.csv) \n",
    "\n",
    "- Read the case description on Kaggle and look at the data. Make sure you understand the features of the data.\n",
    "\n",
    "- Explore the data. You can ask yourself questions like: which features are more likely to influence a passengers chance of survival? How will you investigate this?  \n",
    "\n",
    "- Prepare the data for modelling. You should consider the following:\n",
    "    + Do features have the correct data types?\n",
    "    + How will you handle missing values?\n",
    "    + Are there features you should not include?\n",
    "    + Is cleaning needed for any of the features?\n",
    "    + Can you think of any other feature engineering that might have an impact? "
   ]
  },
  {
   "cell_type": "code",
   "execution_count": 8,
   "metadata": {},
   "outputs": [
    {
     "name": "stderr",
     "output_type": "stream",
     "text": [
      "'wget' is not recognized as an internal or external command,\n",
      "operable program or batch file.\n"
     ]
    }
   ],
   "source": [
    "!wget http://raw.githubusercontent.com/patrickcording/02807-comp-tools/master/docker/work/data/titanic.csv"
   ]
  }
 ],
 "metadata": {
  "kernelspec": {
   "display_name": "Python 3",
   "language": "python",
   "name": "python3"
  },
  "language_info": {
   "codemirror_mode": {
    "name": "ipython",
    "version": 3
   },
   "file_extension": ".py",
   "mimetype": "text/x-python",
   "name": "python",
   "nbconvert_exporter": "python",
   "pygments_lexer": "ipython3",
   "version": "3.7.3"
  }
 },
 "nbformat": 4,
 "nbformat_minor": 2
}
